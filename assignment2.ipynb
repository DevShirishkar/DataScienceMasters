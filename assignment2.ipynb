{
 "cells": [
  {
   "cell_type": "markdown",
   "metadata": {},
   "source": [
    "Q.1 three types of comments in python"
   ]
  },
  {
   "cell_type": "code",
   "execution_count": 1,
   "metadata": {},
   "outputs": [
    {
     "data": {
      "text/plain": [
       "'THIS IS DOCSTRING COMMENT '"
      ]
     },
     "execution_count": 1,
     "metadata": {},
     "output_type": "execute_result"
    }
   ],
   "source": [
    "#THIS IS A SINGLE LINE COMMENT\n",
    "#THIS IS MULTI LINE COMMENT \n",
    "'''THIS IS DOCSTRING COMMENT '''"
   ]
  },
  {
   "cell_type": "markdown",
   "metadata": {},
   "source": [
    "Q.2 variable stores the data values and name placeholder for information"
   ]
  },
  {
   "cell_type": "code",
   "execution_count": 3,
   "metadata": {},
   "outputs": [
    {
     "name": "stdout",
     "output_type": "stream",
     "text": [
      "Dev was born in 2002\n",
      "Dev is now 21 years old\n"
     ]
    }
   ],
   "source": [
    "# Variable declaration and assignment\n",
    "name = \"Dev\"\n",
    "age = 21\n",
    "is_student = False\n",
    "\n",
    "# Using variables in expressions\n",
    "birth_year = 2023 - age\n",
    "print(name + \" was born in\", birth_year)\n",
    "\n",
    "# Reassigning variables\n",
    "age = 21\n",
    "print(name + \" is now\", age, \"years old\")"
   ]
  },
  {
   "cell_type": "code",
   "execution_count": 4,
   "metadata": {},
   "outputs": [],
   "source": [
    "#Q.3 \n",
    "num_str = \"123\"\n",
    "num_int = int(num_str)    # Convert string to integer\n",
    "num_float = float(num_str)  # Convert string to float\n",
    "\n",
    "num = 42\n",
    "num_str = str(num)        # Convert integer to string\n",
    "\n",
    "my_list = [1, 2, 3]\n",
    "my_tuple = tuple(my_list)  # Convert list to tuple\n",
    "\n",
    "my_dict = dict(key1=1, key2=2)\n",
    "my_list = list(my_dict)   # Convert dictionary keys to list"
   ]
  },
  {
   "cell_type": "markdown",
   "metadata": {},
   "source": [
    "Q.4 We can execute python file by opening terminal or command prompt and  type command \n",
    "python3 \n",
    "after running this command we can execute python script\n",
    "Making sure python interpreter is installed"
   ]
  },
  {
   "cell_type": "code",
   "execution_count": 8,
   "metadata": {},
   "outputs": [
    {
     "data": {
      "text/plain": [
       "[2, 3]"
      ]
     },
     "execution_count": 8,
     "metadata": {},
     "output_type": "execute_result"
    }
   ],
   "source": [
    "#Q.5 slicing\n",
    "my_list = [1,2,3,4,5]\n",
    "my_list[1:3]"
   ]
  },
  {
   "cell_type": "markdown",
   "metadata": {},
   "source": [
    "Q.6 Complex number is a number that consists of both a real and an imaginary part in it.\n",
    "In python these numbers are supported as built in data types.\n",
    "(3+4j) this is the way they are represented in python"
   ]
  },
  {
   "cell_type": "code",
   "execution_count": 9,
   "metadata": {},
   "outputs": [],
   "source": [
    "#Q.7   \n",
    "age = 25"
   ]
  },
  {
   "cell_type": "code",
   "execution_count": 13,
   "metadata": {},
   "outputs": [
    {
     "name": "stdout",
     "output_type": "stream",
     "text": [
      "<class 'float'>\n"
     ]
    }
   ],
   "source": [
    "#Q.8\n",
    "price = 9.99\n",
    "print(type(price))\n",
    "#It belongs to float"
   ]
  },
  {
   "cell_type": "code",
   "execution_count": 15,
   "metadata": {},
   "outputs": [
    {
     "name": "stdout",
     "output_type": "stream",
     "text": [
      "Dev Shivaji Shirishkar\n"
     ]
    }
   ],
   "source": [
    "#Q.9\n",
    "name = \"Dev Shivaji Shirishkar\"\n",
    "print(name)"
   ]
  },
  {
   "cell_type": "code",
   "execution_count": 17,
   "metadata": {},
   "outputs": [
    {
     "data": {
      "text/plain": [
       "'World'"
      ]
     },
     "execution_count": 17,
     "metadata": {},
     "output_type": "execute_result"
    }
   ],
   "source": [
    "#Q.10\n",
    "var = \"Hello, World!\"\n",
    "var[7:12]"
   ]
  },
  {
   "cell_type": "code",
   "execution_count": null,
   "metadata": {},
   "outputs": [],
   "source": [
    "#Q.11\n",
    "is_student = True\n"
   ]
  }
 ],
 "metadata": {
  "kernelspec": {
   "display_name": "Python 3",
   "language": "python",
   "name": "python3"
  },
  "language_info": {
   "codemirror_mode": {
    "name": "ipython",
    "version": 3
   },
   "file_extension": ".py",
   "mimetype": "text/x-python",
   "name": "python",
   "nbconvert_exporter": "python",
   "pygments_lexer": "ipython3",
   "version": "3.11.4"
  },
  "orig_nbformat": 4
 },
 "nbformat": 4,
 "nbformat_minor": 2
}
