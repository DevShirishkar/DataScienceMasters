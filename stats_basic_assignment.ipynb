{
 "cells": [
  {
   "cell_type": "markdown",
   "metadata": {},
   "source": [
    "Q.1 statistics is science of collecting, organizing and analyzing the data"
   ]
  },
  {
   "cell_type": "markdown",
   "metadata": {},
   "source": [
    "Q.2 Two types of statistics \n",
    "1. Descriptive \n",
    "2. Inferential "
   ]
  },
  {
   "cell_type": "markdown",
   "metadata": {},
   "source": [
    "Q.3 two types of data \n",
    "1. Quantitative- discrete, continuous \n",
    "2. qualitative- nominal, ordinal\n"
   ]
  },
  {
   "cell_type": "markdown",
   "metadata": {},
   "source": [
    "Q.4 \n",
    "i) ordinal data\n",
    "ii)nominal data\n",
    "iii) discrete data\n",
    "iv) continuous"
   ]
  },
  {
   "cell_type": "markdown",
   "metadata": {},
   "source": [
    "Q.5 Levels of measurement classify data into categories based on their properties. There are four levels:\n",
    "\n",
    "1) Nominal (Categorical): Categories with no order.\n",
    "Ex : Colors (Red, Blue, Green).\n",
    "\n",
    "2) Ordinal (Ordered Categories): Categories with a ranked order.\n",
    "Ex : Education Levels (High School, Bachelor's, Master's).\n",
    "\n",
    "3) Interval: Ordered categories with equal intervals, no true zero.\n",
    "Ex : Temperature in Celsius (0°C isn't the absence of temperature).\n",
    "\n",
    "4) Ratio: Like interval but with a true zero, allowing meaningful ratios.\n",
    "Ex : Height in centimeters (0 cm means no height)."
   ]
  },
  {
   "cell_type": "markdown",
   "metadata": {},
   "source": [
    "Q.6 Understanding the level of measurement when analyzing data is crucial because it determines the types of statistical analyses and operations that can be applied to the data, as well as the meaningfulness of the results. \n",
    "\n",
    "For example, consider a dataset of students' exam scores categorized into letter grades (A, B, C, D, F), which is at the ordinal level. You can determine which grade is better or worse, but you can't say how much better an A is than a B. Attempting to calculate a mean grade (e.g., (A + B + B) / 3) doesn't make sense in this context.\n",
    "\n",
    "In contrast, if you have a dataset of students' heights in centimeters, which is at the ratio level, you can perform arithmetic operations, calculate means, and meaningfully say that a student who is 180 cm is 10 cm taller than a student who is 170 cm.\n",
    "\n",
    "Understanding the level of measurement ensures that you choose appropriate statistical methods and draw valid conclusions from your data analysis."
   ]
  },
  {
   "cell_type": "markdown",
   "metadata": {},
   "source": [
    "Q.7 Nominal data have no specific order, whereas ordinal data have specific order "
   ]
  },
  {
   "cell_type": "markdown",
   "metadata": {},
   "source": [
    "Q.8 box plot can be used to display data in terms of range"
   ]
  },
  {
   "cell_type": "markdown",
   "metadata": {},
   "source": [
    "Q.9 Descriptive statistics summarize and describe data, while inferential statistics make inferences or predictions based on data.\n",
    "\n",
    "Example of Descriptive Statistics:\n",
    "- Mean (Average): Describes the central tendency of a dataset by calculating the sum of values divided by the number of values. For example, calculating the mean score of students in a class provides an overview of their average performance.\n",
    "\n",
    "Example of Inferential Statistics:\n",
    "- Hypothesis Testing: Involves testing a hypothesis or making predictions about a population based on a sample. For instance, conducting a t-test to determine if there is a significant difference in test scores between two groups of students, and then inferring whether this difference is likely to apply to the larger population.\n",
    "\n",
    "Descriptive statistics provide a snapshot of data, summarizing its key features, while inferential statistics allow us to make broader conclusions or predictions based on the data, often involving hypothesis testing or making estimates about populations using sample data."
   ]
  },
  {
   "cell_type": "markdown",
   "metadata": {},
   "source": [
    "Q.10 Common measures of central tendency and variability used in statistics include:\n",
    "\n",
    "Measures of Central Tendency:\n",
    "1. Mean: The arithmetic average of a dataset. It provides a measure of the \"typical\" value.\n",
    "   - Use: Describes the center of the data and is often used for normally distributed data.\n",
    "\n",
    "2. Median: The middle value in a sorted dataset, separating it into two equal halves. It's not affected by extreme values.\n",
    "   - Use: Useful when dealing with skewed data or datasets with outliers.\n",
    "\n",
    "3. Mode: The most frequently occurring value(s) in a dataset.\n",
    "   - Use: Identifies the most common value(s) in categorical or discrete data.\n",
    "\n",
    "Measures of Variability (Dispersion):\n",
    "1. Range: The difference between the maximum and minimum values in a dataset.\n",
    "   - Use: Provides a simple measure of the spread of data.\n",
    "\n",
    "2. Variance: The average of the squared differences between each data point and the mean. It quantifies the overall variability.\n",
    "   - Use: Gives a more precise measure of how data points deviate from the mean, but it's in squared units.\n",
    "\n",
    "3. Standard Deviation: The square root of the variance. It provides a measure of variability in the original units of the data.\n",
    "   - Use: Offers a more interpretable measure of data spread compared to variance.\n",
    "\n",
    "4. Interquartile Range (IQR): The range between the first quartile (Q1) and the third quartile (Q3) of the dataset. It's less sensitive to outliers.\n",
    "   - Use: Describes the middle 50% of data and helps identify the spread around the median.\n",
    "\n",
    "These measures help summarize and describe datasets:\n",
    "- Measures of central tendency provide information about where the \"center\" of the data is located.\n",
    "- Measures of variability quantify how spread out or dispersed the data points are.\n",
    "- Together, they give a comprehensive view of a dataset's distribution and characteristics, helping in data analysis and interpretation."
   ]
  }
 ],
 "metadata": {
  "language_info": {
   "name": "python"
  },
  "orig_nbformat": 4
 },
 "nbformat": 4,
 "nbformat_minor": 2
}
